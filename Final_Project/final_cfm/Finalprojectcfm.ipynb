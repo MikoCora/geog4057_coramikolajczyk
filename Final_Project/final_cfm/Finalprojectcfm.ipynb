{
 "cells": [
  {
   "cell_type": "code",
   "execution_count": 21,
   "id": "13360579",
   "metadata": {},
   "outputs": [],
   "source": [
    "import arcpy\n",
    "import os "
   ]
  },
  {
   "cell_type": "code",
   "execution_count": 6,
   "id": "52411215-8aa7-464d-8f03-8d72bf08dc55",
   "metadata": {},
   "outputs": [],
   "source": [
    "import arcgis\n",
    "import pdf2image"
   ]
  },
  {
   "cell_type": "code",
   "execution_count": 26,
   "id": "cff0ec19",
   "metadata": {},
   "outputs": [],
   "source": [
    "\n",
    "csv_path = r\"C:\\Users\\coram\\Documents\\geog4057_coramikolajczyk\\Final_Project\\final_cfm\\Transposed.csv\"\n",
    "tiff_path = r\"C:\\Users\\coram\\Documents\\geog4057_coramikolajczyk\\Final_Project\\final_cfm\\ncld2011.tif\"\n"
   ]
  },
  {
   "cell_type": "code",
   "execution_count": 27,
   "id": "b26d4f24-3333-4309-af66-57169ddd16e9",
   "metadata": {},
   "outputs": [
    {
     "data": {
      "text/html": [
       "<div class='gpresult'><h2 class='msg-title'>Messages</h2><div id='messages'>Start Time: Wednesday, May 7, 2025 9:57:56 AM<br>Succeeded at Wednesday, May 7, 2025 9:57:59 AM (Elapsed Time: 3.51 seconds)<br></div><div id = 'default' /></div></div>"
      ],
      "text/plain": [
       "<Result 'csv'>"
      ]
     },
     "execution_count": 28,
     "metadata": {},
     "output_type": "execute_result"
    }
   ],
   "source": [
    "arcpy.management.MakeXYEventLayer(csv_path, \"BeginLong\", \"BeginLat\", \"csv\")"
   ]
  },
  {
   "cell_type": "code",
   "execution_count": 28,
   "id": "27359f9e-407a-4c1a-81fb-ca7d829200d7",
   "metadata": {},
   "outputs": [
    {
     "data": {
      "text/html": [
       "<div class='gpresult'><h2 class='msg-title'>Messages</h2><div id='messages'>Start Time: Wednesday, May 7, 2025 9:59:20 AM<br>Succeeded at Wednesday, May 7, 2025 10:01:05 AM (Elapsed Time: 1 minutes 44 seconds)<br></div><div id = 'default' /></div></div>"
      ],
      "text/plain": [
       "<Result 'C:\\\\Users\\\\coram\\\\Documents\\\\geog4057_coramikolajczyk\\\\Final_Project\\\\final_cfm\\\\nlcd_2011.tif'>"
      ]
     },
     "execution_count": 29,
     "metadata": {},
     "output_type": "execute_result"
    }
   ],
   "source": [
    "# Path to your raster\n",
    "raster_path = r\"C:\\Users\\coram\\Documents\\geog4057_coramikolajczyk\\Final_Project\\final_cfm\\nlcd_2011.tif\"\n",
    "\n",
    "\n",
    "\n",
    "# Calculate statistics\n",
    "arcpy.management.CalculateStatistics(r\"C:\\Users\\coram\\Documents\\geog4057_coramikolajczyk\\Final_Project\\final_cfm\\nlcd_2011.tif\")\n",
    "\n",
    "# Build attribute table\n",
    "arcpy.management.BuildRasterAttributeTable(r\"C:\\Users\\coram\\Documents\\geog4057_coramikolajczyk\\Final_Project\\final_cfm\\nlcd_2011.tif\", \"OVERWRITE\")\n",
    "\n"
   ]
  },
  {
   "cell_type": "code",
   "execution_count": 29,
   "id": "5be4e9c2-e875-4664-a7a4-4847e7039988",
   "metadata": {},
   "outputs": [
    {
     "name": "stdout",
     "output_type": "stream",
     "text": [
      "✅ Buffer created successfully.\n"
     ]
    }
   ],
   "source": [
    "output_gdb = r\"C:\\Users\\coram\\Documents\\ArcGIS\\Projects\\final_project\\final_project.gdb\"\n",
    "csv_path = r\"C:\\Users\\coram\\Documents\\geog4057_coramikolajczyk\\Final_Project\\final_cfm\\Transposed.csv\"\n",
    "xy_layer = \"points_layer\"\n",
    "projected_layer = \"points_projected\"\n",
    "buffer_output = \"points_buffer_289m\"\n",
    "\n",
    "# === 2. Create XY Event Layer from CSV ===\n",
    "arcpy.management.MakeXYEventLayer(\n",
    "    table=csv_path,\n",
    "    in_x_field=\"BeginLong\",  # Replace with your actual column name\n",
    "    in_y_field=\"BeginLat\",   # Replace with your actual column name\n",
    "    out_layer=xy_layer,\n",
    "    spatial_reference=4326  # WGS 1984\n",
    ")\n",
    "\n",
    "# === 3. Save to feature class ===\n",
    "points_fc = f\"{output_gdb}\\\\points\"\n",
    "arcpy.management.CopyFeatures(xy_layer, points_fc)\n",
    "\n",
    "\n",
    "projected_fc = f\"{output_gdb}\\\\{projected_layer}\"\n",
    "arcpy.management.Project(\n",
    "    in_dataset=points_fc,\n",
    "    out_dataset=projected_fc,\n",
    "    out_coor_system=arcpy.SpatialReference(26960)  \n",
    ")\n",
    "\n",
    "# === 5. Create 289-meter buffer ===\n",
    "buffer_fc = f\"{output_gdb}\\\\{buffer_output}\"\n",
    "arcpy.analysis.Buffer(\n",
    "    in_features=projected_fc,\n",
    "    out_feature_class=buffer_fc,\n",
    "    buffer_distance_or_field=\"289 Meters\"\n",
    ")\n",
    "\n",
    "print(\"✅ Buffer created successfully.\")\n"
   ]
  },
  {
   "cell_type": "code",
   "execution_count": 30,
   "id": "676455bd-ecdb-4af9-89ff-55ac2a75c78a",
   "metadata": {},
   "outputs": [
    {
     "ename": "<class 'arcgisscripting.ExecuteError'>",
     "evalue": "Failed to execute. Parameters are not valid.\nERROR 000732: Output Extent: Dataset C:\\Users\\coram\\Documents\\ArcGIS\\Projects\\final_project\\final_project.gdb does not exist or is not supported\nFailed to execute (Clip).\n",
     "output_type": "error",
     "traceback": [
      "\u001b[1;31m---------------------------------------------------------------------------\u001b[0m",
      "\u001b[1;31mExecuteError\u001b[0m                              Traceback (most recent call last)",
      "Cell \u001b[1;32mIn[31], line 7\u001b[0m\n\u001b[0;32m      4\u001b[0m output_raster \u001b[38;5;241m=\u001b[39m \u001b[38;5;124mr\u001b[39m\u001b[38;5;124m\"\u001b[39m\u001b[38;5;124mC:\u001b[39m\u001b[38;5;124m\\\u001b[39m\u001b[38;5;124mUsers\u001b[39m\u001b[38;5;124m\\\u001b[39m\u001b[38;5;124mcoram\u001b[39m\u001b[38;5;124m\\\u001b[39m\u001b[38;5;124mDocuments\u001b[39m\u001b[38;5;124m\\\u001b[39m\u001b[38;5;124mArcGIS\u001b[39m\u001b[38;5;124m\\\u001b[39m\u001b[38;5;124mProjects\u001b[39m\u001b[38;5;124m\\\u001b[39m\u001b[38;5;124mfinal_project\u001b[39m\u001b[38;5;124m\\\u001b[39m\u001b[38;5;124mfinal_project.gdb\u001b[39m\u001b[38;5;124m\\\u001b[39m\u001b[38;5;124mnlcd_clipped\u001b[39m\u001b[38;5;124m\"\u001b[39m\n\u001b[0;32m      6\u001b[0m \u001b[38;5;66;03m# Clip the raster using the buffer\u001b[39;00m\n\u001b[1;32m----> 7\u001b[0m arcpy\u001b[38;5;241m.\u001b[39mmanagement\u001b[38;5;241m.\u001b[39mClip(\n\u001b[0;32m      8\u001b[0m     in_raster\u001b[38;5;241m=\u001b[39minput_raster,\n\u001b[0;32m      9\u001b[0m     rectangle\u001b[38;5;241m=\u001b[39m\u001b[38;5;124m\"\u001b[39m\u001b[38;5;124m#\u001b[39m\u001b[38;5;124m\"\u001b[39m,  \u001b[38;5;66;03m# Use the feature geometry instead\u001b[39;00m\n\u001b[0;32m     10\u001b[0m     out_raster\u001b[38;5;241m=\u001b[39moutput_raster,\n\u001b[0;32m     11\u001b[0m     in_template_dataset\u001b[38;5;241m=\u001b[39mbuffer_fc,\n\u001b[0;32m     12\u001b[0m     nodata_value\u001b[38;5;241m=\u001b[39m\u001b[38;5;124m\"\u001b[39m\u001b[38;5;124m0\u001b[39m\u001b[38;5;124m\"\u001b[39m,\n\u001b[0;32m     13\u001b[0m     clipping_geometry\u001b[38;5;241m=\u001b[39m\u001b[38;5;124m\"\u001b[39m\u001b[38;5;124mClippingGeometry\u001b[39m\u001b[38;5;124m\"\u001b[39m,\n\u001b[0;32m     14\u001b[0m     maintain_clipping_extent\u001b[38;5;241m=\u001b[39m\u001b[38;5;124m\"\u001b[39m\u001b[38;5;124mNO_MAINTAIN_EXTENT\u001b[39m\u001b[38;5;124m\"\u001b[39m\n\u001b[0;32m     15\u001b[0m )\n\u001b[0;32m     17\u001b[0m \u001b[38;5;28mprint\u001b[39m(\u001b[38;5;124m\"\u001b[39m\u001b[38;5;124m✅ Raster clipped to buffer area.\u001b[39m\u001b[38;5;124m\"\u001b[39m)\n",
      "File \u001b[1;32mC:\\Program Files\\ArcGIS\\Pro\\Resources\\ArcPy\\arcpy\\management.py:28118\u001b[0m, in \u001b[0;36mClip\u001b[1;34m(in_raster, rectangle, out_raster, in_template_dataset, nodata_value, clipping_geometry, maintain_clipping_extent)\u001b[0m\n\u001b[0;32m  28116\u001b[0m     \u001b[38;5;28;01mreturn\u001b[39;00m retval\n\u001b[0;32m  28117\u001b[0m \u001b[38;5;28;01mexcept\u001b[39;00m \u001b[38;5;167;01mException\u001b[39;00m \u001b[38;5;28;01mas\u001b[39;00m e:\n\u001b[1;32m> 28118\u001b[0m     \u001b[38;5;28;01mraise\u001b[39;00m e\n",
      "File \u001b[1;32mC:\\Program Files\\ArcGIS\\Pro\\Resources\\ArcPy\\arcpy\\management.py:28101\u001b[0m, in \u001b[0;36mClip\u001b[1;34m(in_raster, rectangle, out_raster, in_template_dataset, nodata_value, clipping_geometry, maintain_clipping_extent)\u001b[0m\n\u001b[0;32m  28097\u001b[0m \u001b[38;5;28;01mfrom\u001b[39;00m \u001b[38;5;21;01marcpy\u001b[39;00m\u001b[38;5;21;01m.\u001b[39;00m\u001b[38;5;21;01marcobjects\u001b[39;00m\u001b[38;5;21;01m.\u001b[39;00m\u001b[38;5;21;01marcobjectconversion\u001b[39;00m \u001b[38;5;28;01mimport\u001b[39;00m convertArcObjectToPythonObject\n\u001b[0;32m  28099\u001b[0m \u001b[38;5;28;01mtry\u001b[39;00m:\n\u001b[0;32m  28100\u001b[0m     retval \u001b[38;5;241m=\u001b[39m convertArcObjectToPythonObject(\n\u001b[1;32m> 28101\u001b[0m         gp\u001b[38;5;241m.\u001b[39mClip_management(\n\u001b[0;32m  28102\u001b[0m             \u001b[38;5;241m*\u001b[39mgp_fixargs(\n\u001b[0;32m  28103\u001b[0m                 (\n\u001b[0;32m  28104\u001b[0m                     in_raster,\n\u001b[0;32m  28105\u001b[0m                     rectangle,\n\u001b[0;32m  28106\u001b[0m                     out_raster,\n\u001b[0;32m  28107\u001b[0m                     in_template_dataset,\n\u001b[0;32m  28108\u001b[0m                     nodata_value,\n\u001b[0;32m  28109\u001b[0m                     clipping_geometry,\n\u001b[0;32m  28110\u001b[0m                     maintain_clipping_extent,\n\u001b[0;32m  28111\u001b[0m                 ),\n\u001b[0;32m  28112\u001b[0m                 \u001b[38;5;28;01mTrue\u001b[39;00m,\n\u001b[0;32m  28113\u001b[0m             )\n\u001b[0;32m  28114\u001b[0m         )\n\u001b[0;32m  28115\u001b[0m     )\n\u001b[0;32m  28116\u001b[0m     \u001b[38;5;28;01mreturn\u001b[39;00m retval\n\u001b[0;32m  28117\u001b[0m \u001b[38;5;28;01mexcept\u001b[39;00m \u001b[38;5;167;01mException\u001b[39;00m \u001b[38;5;28;01mas\u001b[39;00m e:\n",
      "File \u001b[1;32mC:\\Program Files\\ArcGIS\\Pro\\Resources\\ArcPy\\arcpy\\geoprocessing\\_base.py:532\u001b[0m, in \u001b[0;36mGeoprocessor.__getattr__.<locals>.<lambda>\u001b[1;34m(*args)\u001b[0m\n\u001b[0;32m    530\u001b[0m val \u001b[38;5;241m=\u001b[39m \u001b[38;5;28mgetattr\u001b[39m(\u001b[38;5;28mself\u001b[39m\u001b[38;5;241m.\u001b[39m_gp, attr)\n\u001b[0;32m    531\u001b[0m \u001b[38;5;28;01mif\u001b[39;00m \u001b[38;5;28mcallable\u001b[39m(val):\n\u001b[1;32m--> 532\u001b[0m     \u001b[38;5;28;01mreturn\u001b[39;00m \u001b[38;5;28;01mlambda\u001b[39;00m \u001b[38;5;241m*\u001b[39margs: val(\u001b[38;5;241m*\u001b[39mgp_fixargs(args, \u001b[38;5;28;01mTrue\u001b[39;00m))\n\u001b[0;32m    533\u001b[0m \u001b[38;5;28;01melse\u001b[39;00m:\n\u001b[0;32m    534\u001b[0m     \u001b[38;5;28;01mreturn\u001b[39;00m convertArcObjectToPythonObject(val)\n",
      "\u001b[1;31mExecuteError\u001b[0m: Failed to execute. Parameters are not valid.\nERROR 000732: Output Extent: Dataset C:\\Users\\coram\\Documents\\ArcGIS\\Projects\\final_project\\final_project.gdb does not exist or is not supported\nFailed to execute (Clip).\n"
     ]
    }
   ],
   "source": [
    "# Paths\n",
    "input_raster = r\"C:\\Users\\coram\\Documents\\geog4057_coramikolajczyk\\Final_Project\\final_cfm\\nlcd2011.tif\"\n",
    "buffer_fc = r\"C:\\Users\\coram\\Documents\\ArcGIS\\Projects\\final_project\\final_project.gdb\"\n",
    "output_raster = r\"C:\\Users\\coram\\Documents\\ArcGIS\\Projects\\final_project\\final_project.gdb\\nlcd_clipped\"\n",
    "\n",
    "# Clip the raster using the buffer\n",
    "arcpy.management.Clip(\n",
    "    in_raster=input_raster,\n",
    "    rectangle=\"#\",  # Use the feature geometry instead\n",
    "    out_raster=output_raster,\n",
    "    in_template_dataset=buffer_fc,\n",
    "    nodata_value=\"0\",\n",
    "    clipping_geometry=\"ClippingGeometry\",\n",
    "    maintain_clipping_extent=\"NO_MAINTAIN_EXTENT\"\n",
    ")\n",
    "\n",
    "print(\"✅ Raster clipped to buffer area.\")\n"
   ]
  },
  {
   "cell_type": "code",
   "execution_count": null,
   "id": "232c3c55-b590-40b1-b528-d5ef37a1405b",
   "metadata": {},
   "outputs": [],
   "source": [
    "arcpy.env.workspace = r\"C:\\Users\\coram\\Documents\\ArcGIS\\Projects\\final_project\\final_project.gdb\"\n",
    "print(arcpy.ListFeatureClasses())"
   ]
  },
  {
   "cell_type": "code",
   "execution_count": null,
   "id": "1ccfb7cb-b900-4448-aaad-a08298eaffc4",
   "metadata": {},
   "outputs": [],
   "source": [
    "import arcpy\n",
    "from arcpy.sa import *\n",
    "\n",
    "# Enable Spatial Analyst extension\n",
    "arcpy.CheckOutExtension(\"Spatial\")\n",
    "\n",
    "# Set environment\n",
    "arcpy.env.overwriteOutput = True\n",
    "\n",
    "# Inputs\n",
    "input_raster = r\"C:\\Users\\coram\\Documents\\geog4057_coramikolajczyk\\Final_Project\\final_cfm\\nlcd2011.tif\"\n",
    "mask_fc = r\"C:\\Users\\coram\\Documents\\ArcGIS\\Projects\\final_project\\final_project.gdb\\points_buffer_289m\"\n",
    "output_masked_raster = r\"C:\\Users\\coram\\Documents\\ArcGIS\\Projects\\final_project\\final_project.gdb\\nlcd_masked\"\n",
    "\n",
    "# Apply the mask\n",
    "masked_raster = ExtractByMask(input_raster, mask_fc)\n",
    "masked_raster.save(output_masked_raster)\n",
    "\n",
    "print(\"✅ Raster masked successfully.\")\n"
   ]
  },
  {
   "cell_type": "code",
   "execution_count": null,
   "id": "9788d6b3-f91d-4ca4-95b7-4a16997b0ae0",
   "metadata": {},
   "outputs": [],
   "source": [
    "import arcpy\n",
    "from arcpy.sa import *\n",
    "\n",
    "# Enable Spatial Analyst extension\n",
    "arcpy.CheckOutExtension(\"Spatial\")\n",
    "\n",
    "# Path to your masked raster\n",
    "masked_raster_path = r\"C:\\Users\\coram\\Documents\\ArcGIS\\Projects\\final_project\\final_project.gdb\\nlcd_masked\"\n",
    "\n",
    "# Load the raster\n",
    "masked_raster = arcpy.Raster(masked_raster_path)\n",
    "\n",
    "# Get pixel size (assumes square pixels)\n",
    "pixel_size_x = masked_raster.meanCellWidth\n",
    "pixel_size_y = masked_raster.meanCellHeight\n",
    "pixel_area = pixel_size_x * pixel_size_y  # in square meters\n",
    "\n",
    "# Count valid (non-NoData) pixels\n",
    "valid_pixels = int(arcpy.GetRasterProperties_management(masked_raster, \"COUNT\").getOutput(0))\n",
    "\n",
    "# Calculate total area\n",
    "total_area_sqm = valid_pixels * pixel_area\n",
    "total_area_hectares = total_area_sqm / 10000\n",
    "\n",
    "print(f\"✅ Total area: {total_area_sqm:.2f} m² ({total_area_hectares:.2f} hectares)\")\n"
   ]
  },
  {
   "cell_type": "code",
   "execution_count": null,
   "id": "d167e565-b944-4a4f-8138-27ca9adc30ab",
   "metadata": {},
   "outputs": [],
   "source": [
    "import arcpy\n",
    "\n",
    "# Path to your raster\n",
    "raster_path = r\"C:\\Users\\coram\\Documents\\ArcGIS\\Projects\\final_project\\final_project.gdb\\nlcd_masked\"\n",
    "\n",
    "# Get raster properties\n",
    "raster = arcpy.Raster(raster_path)\n",
    "\n",
    "# Print properties\n",
    "print(\"Width:\", raster.width)\n",
    "print(\"Height:\", raster.height)\n",
    "print(\"Pixel size (X):\", raster.meanCellWidth)\n",
    "print(\"Pixel size (Y):\", raster.meanCellHeight)\n",
    "print(\"Spatial reference:\", raster.spatialReference.name)\n",
    "print(\"Extent:\", raster.extent)\n"
   ]
  },
  {
   "cell_type": "code",
   "execution_count": null,
   "id": "b0be54a9-cbba-413c-9d9b-e546699f0de4",
   "metadata": {},
   "outputs": [],
   "source": [
    "import arcpy\n",
    "\n",
    "# Path to your masked raster\n",
    "masked_raster_path = r\"C:\\Users\\coram\\Documents\\ArcGIS\\Projects\\final_project\\final_project.gdb\\nlcd_masked\"\n",
    "\n",
    "# Load the raster\n",
    "raster = arcpy.Raster(masked_raster_path)\n",
    "\n",
    "# Get pixel area (assuming square pixels)\n",
    "pixel_area = raster.meanCellWidth * raster.meanCellHeight  # in square meters\n",
    "\n",
    "# Dictionary to store results\n",
    "class_areas = {}\n",
    "\n",
    "# Read from the raster attribute table\n",
    "with arcpy.da.SearchCursor(masked_raster_path, [\"Value\", \"Count\"]) as cursor:\n",
    "    for value, count in cursor:\n",
    "        area_sqm = count * pixel_area\n",
    "        area_ha = area_sqm / 10000\n",
    "        class_areas[value] = {\n",
    "            \"count\": count,\n",
    "            \"area_sqm\": area_sqm,\n",
    "            \"area_ha\": area_ha\n",
    "        }\n",
    "\n",
    "# Print results\n",
    "for value, stats in class_areas.items():\n",
    "    print(f\"Class {value}: {stats['count']} pixels, {stats['area_sqm']:.2f} m² ({stats['area_ha']:.2f} ha)\")\n",
    "\n",
    "print(\"✅ Area per class calculated.\")\n"
   ]
  },
  {
   "cell_type": "code",
   "execution_count": null,
   "id": "a30e781b-f4a6-469e-84d1-03a3238a2a04",
   "metadata": {},
   "outputs": [],
   "source": [
    "import arcpy\n",
    "from arcpy.sa import *\n",
    "\n",
    "# Enable Spatial Analyst extension\n",
    "arcpy.CheckOutExtension(\"Spatial\")\n",
    "\n",
    "# Set environment\n",
    "arcpy.env.overwriteOutput = True\n",
    "\n",
    "# Paths\n",
    "project_folder = r\"C:\\Users\\coram\\Documents\\ArcGIS\\Projects\\final_project\"\n",
    "masked_raster_path = fr\"{project_folder}\\final_project.gdb\\nlcd_masked\"\n",
    "buffer_fc = fr\"{project_folder}\\final_project.gdb\\points_buffer_289m\"\n",
    "scratch_gdb = fr\"{project_folder}\\scratch.gdb\"\n",
    "\n",
    "# Create scratch.gdb if it doesn't exist\n",
    "if not arcpy.Exists(scratch_gdb):\n",
    "    arcpy.CreateFileGDB_management(project_folder, \"scratch.gdb\")\n",
    "\n",
    "# Load the raster\n",
    "masked_raster = arcpy.Raster(masked_raster_path)\n",
    "pixel_area = masked_raster.meanCellWidth * masked_raster.meanCellHeight  # m²\n",
    "\n",
    "# Dictionary to store results\n",
    "buffer_class_areas = {}\n",
    "\n",
    "# Loop through each buffer\n",
    "with arcpy.da.SearchCursor(buffer_fc, [\"OID@\", \"SHAPE@\"]) as buffer_cursor:\n",
    "    for buffer_id, buffer_geom in buffer_cursor:\n",
    "        # Extract raster within buffer\n",
    "        extracted = ExtractByMask(masked_raster, buffer_geom)\n",
    "\n",
    "        # Save to scratch.gdb with unique name\n",
    "        temp_raster_path = fr\"{scratch_gdb}\\temp_extract_{buffer_id}\"\n",
    "        extracted.save(temp_raster_path)\n",
    "\n",
    "        # Build attribute table\n",
    "        arcpy.management.BuildRasterAttributeTable(temp_raster_path, \"OVERWRITE\")\n",
    "\n",
    "        # Read class values and counts\n",
    "        class_areas = {}\n",
    "        with arcpy.da.SearchCursor(temp_raster_path, [\"Value\", \"Count\"]) as cursor:\n",
    "            for value, count in cursor:\n",
    "                area_sqm = count * pixel_area\n",
    "                area_ha = area_sqm / 10000\n",
    "                class_areas[value] = {\n",
    "                    \"count\": count,\n",
    "                    \"area_sqm\": area_sqm,\n",
    "                    \"area_ha\": area_ha\n",
    "                }\n",
    "\n",
    "        buffer_class_areas[buffer_id] = class_areas\n",
    "\n",
    "# Print results\n",
    "for buffer_id, classes in buffer_class_areas.items():\n",
    "    print(f\"Buffer {buffer_id}:\")\n",
    "    for value, stats in classes.items():\n",
    "        print(f\"  Class {value}: {stats['count']} pixels, {stats['area_sqm']:.2f} m² ({stats['area_ha']:.2f} ha)\")\n",
    "\n",
    "print(\"✅ Area per class within each buffer calculated.\")\n"
   ]
  },
  {
   "cell_type": "code",
   "execution_count": 33,
   "id": "aadc2551-61a3-4920-adc2-a2deba893115",
   "metadata": {},
   "outputs": [
    {
     "name": "stdout",
     "output_type": "stream",
     "text": [
      "Maps: ['Land Coverage of in Miami Florida ']\n",
      "Layouts: ['Layout', 'layout2', 'Layout1']\n"
     ]
    }
   ],
   "source": [
    "\n",
    "aprx = arcpy.mp.ArcGISProject(\"CURRENT\")\n",
    "print(\"Maps:\", [m.name for m in aprx.listMaps()])\n",
    "print(\"Layouts:\", [l.name for l in aprx.listLayouts()])\n"
   ]
  },
  {
   "cell_type": "code",
   "execution_count": null,
   "id": "e481e025-b2d3-4045-a729-fdf8b077481c",
   "metadata": {},
   "outputs": [],
   "source": [
    "import arcpy\n",
    "\n",
    "# Set paths\n",
    "input_fc = r\"C:\\Users\\coram\\Documents\\ArcGIS\\Projects\\final_project\\final_project.gdb\\points_buffer_289m\"\n",
    "output_folder = r\"C:\\Users\\coram\\Documents\\geog4057_coramikolajczyk\\Final_Project\"\n",
    "output_shapefile = output_folder + r\"\\buffer_export.shp\"\n",
    "\n",
    "# Export to shapefile\n",
    "arcpy.conversion.FeatureClassToShapefile([input_fc], output_folder)\n",
    "\n",
    "print(\"✅ Shapefile exported successfully.\")\n"
   ]
  },
  {
   "cell_type": "code",
   "execution_count": 31,
   "id": "e2b4b5f2-fcf7-498b-8797-78366b0e7cda",
   "metadata": {},
   "outputs": [
    {
     "name": "stdout",
     "output_type": "stream",
     "text": [
      "✅ Raster converted to shapefile successfully:\n",
      "C:\\Users\\coram\\Documents\\geog4057_coramikolajczyk\\Final_Project\\nlcd_masked_export.shp\n"
     ]
    }
   ],
   "source": [
    "import arcpy\n",
    "\n",
    "# Input raster\n",
    "input_raster = r\"C:\\Users\\coram\\Documents\\ArcGIS\\Projects\\final_project\\final_project.gdb\\nlcd_masked\"\n",
    "\n",
    "# Output folder and shapefile name\n",
    "output_folder = r\"C:\\Users\\coram\\Documents\\geog4057_coramikolajczyk\\Final_Project\"\n",
    "output_shapefile = output_folder + r\"\\nlcd_masked_export.shp\"\n",
    "\n",
    "# Convert raster to polygon\n",
    "arcpy.conversion.RasterToPolygon(\n",
    "    in_raster=input_raster,\n",
    "    out_polygon_features=output_shapefile,\n",
    "    simplify=\"NO_SIMPLIFY\",\n",
    "    raster_field=\"Value\"\n",
    ")\n",
    "\n",
    "print(\"✅ Raster converted to shapefile successfully:\")\n",
    "print(output_shapefile)\n"
   ]
  },
  {
   "cell_type": "code",
   "execution_count": 36,
   "id": "56985223-0f37-481a-80dd-65d6216089a9",
   "metadata": {},
   "outputs": [
    {
     "name": "stdout",
     "output_type": "stream",
     "text": [
      "✅ Layout exported to PDF:\n",
      "C:\\Users\\coram\\Documents\\geog4057_coramikolajczyk\\Final_Project\\final_project_map1.pdf\n"
     ]
    }
   ],
   "source": [
    "import arcpy\n",
    "\n",
    "# Access the current project and layout\n",
    "aprx = arcpy.mp.ArcGISProject(\"CURRENT\")\n",
    "layout = aprx.listLayouts(\"Layout\")[0]\n",
    "\n",
    "# Set output path\n",
    "output_pdf = r\"C:\\Users\\coram\\Documents\\geog4057_coramikolajczyk\\Final_Project\\final_project_map1.pdf\"\n",
    "\n",
    "# Export layout to PDF\n",
    "layout.exportToPDF(output_pdf)\n",
    "\n",
    "print(\"✅ Layout exported to PDF:\")\n",
    "print(output_pdf)\n"
   ]
  },
  {
   "cell_type": "code",
   "execution_count": 35,
   "id": "c682ecb3-b620-445d-b6c5-136af35efe2f",
   "metadata": {},
   "outputs": [
    {
     "name": "stdout",
     "output_type": "stream",
     "text": [
      "✅ Layout exported to PDF:\n",
      "C:\\Users\\coram\\Documents\\geog4057_coramikolajczyk\\Final_Project\\final_project_map.pdf\n"
     ]
    }
   ],
   "source": [
    "import arcpy\n",
    "\n",
    "# Access the current project and layout\n",
    "aprx = arcpy.mp.ArcGISProject(\"CURRENT\")\n",
    "layout = aprx.listLayouts(\"Layout1\")[0]\n",
    "\n",
    "# Set output path\n",
    "output_pdf = r\"C:\\Users\\coram\\Documents\\geog4057_coramikolajczyk\\Final_Project\\final_project_map.pdf\"\n",
    "\n",
    "# Export layout to PDF\n",
    "layout.exportToPDF(output_pdf)\n",
    "\n",
    "print(\"✅ Layout exported to PDF:\")\n",
    "print(output_pdf)\n"
   ]
  },
  {
   "cell_type": "markdown",
   "id": "b62f9e7e",
   "metadata": {},
   "source": [
    "The goal of this project was to calculate the percent impervious cover and compare transects found in both urban and natural settings in and around Miami Florida. The transect data was found from the Florida Fish and Wildlife Conservation Commission and the land cover data was found from the NLCD database and are both free and publicly available. \n",
    "To begin the project, the necessary modules are imported along with the CVS and NLCD raster files into the workspace. The NLCD2011 tiff file may need to be converted to a raster file and after that is completed, statistics need to be calculated to be able to run in arcgis. Once the raster is readable and has an attribute table, you can see the data related to the pixels. As for the CSV file, it is then converted to an XY table then points can be created from the BeginLong and BeginLat data. A buffer is then created around the new “transect” points of 289 meters. The buffer size was predetermined by wetland scientists in different studies. The raster and tiff were clipped and masked so that way the NLCD data was only present within the buffer zone. After this, the raster data is converted to square meters for each classification found within the NLCD dataset. These were then added to the map along with the total area. The results were then exported as a shapefile and CSV file along with two layouts presenting the results in a natural setting and an urban setting. Finally, I tried to clean it up as best as possible to be able to run it in the python toolbox. \n",
    "\n",
    "\n"
   ]
  },
  {
   "cell_type": "markdown",
   "id": "5e72b3bb",
   "metadata": {},
   "source": []
  },
  {
   "cell_type": "code",
   "execution_count": 7,
   "id": "49c98ce8",
   "metadata": {},
   "outputs": [
    {
     "ename": "PDFInfoNotInstalledError",
     "evalue": "Unable to get page count. Is poppler installed and in PATH?",
     "output_type": "error",
     "traceback": [
      "\u001b[1;31m---------------------------------------------------------------------------\u001b[0m",
      "\u001b[1;31mFileNotFoundError\u001b[0m                         Traceback (most recent call last)",
      "File \u001b[1;32mc:\\Users\\coram\\.conda\\envs\\arcpy_clone\\Lib\\site-packages\\pdf2image\\pdf2image.py:581\u001b[0m, in \u001b[0;36mpdfinfo_from_path\u001b[1;34m(pdf_path, userpw, ownerpw, poppler_path, rawdates, timeout, first_page, last_page)\u001b[0m\n\u001b[0;32m    580\u001b[0m     env[\u001b[38;5;124m\"\u001b[39m\u001b[38;5;124mLD_LIBRARY_PATH\u001b[39m\u001b[38;5;124m\"\u001b[39m] \u001b[38;5;241m=\u001b[39m poppler_path \u001b[38;5;241m+\u001b[39m \u001b[38;5;124m\"\u001b[39m\u001b[38;5;124m:\u001b[39m\u001b[38;5;124m\"\u001b[39m \u001b[38;5;241m+\u001b[39m env\u001b[38;5;241m.\u001b[39mget(\u001b[38;5;124m\"\u001b[39m\u001b[38;5;124mLD_LIBRARY_PATH\u001b[39m\u001b[38;5;124m\"\u001b[39m, \u001b[38;5;124m\"\u001b[39m\u001b[38;5;124m\"\u001b[39m)\n\u001b[1;32m--> 581\u001b[0m proc \u001b[38;5;241m=\u001b[39m Popen(command, env\u001b[38;5;241m=\u001b[39menv, stdout\u001b[38;5;241m=\u001b[39mPIPE, stderr\u001b[38;5;241m=\u001b[39mPIPE)\n\u001b[0;32m    583\u001b[0m \u001b[38;5;28;01mtry\u001b[39;00m:\n",
      "File \u001b[1;32mc:\\Users\\coram\\.conda\\envs\\arcpy_clone\\Lib\\subprocess.py:1026\u001b[0m, in \u001b[0;36mPopen.__init__\u001b[1;34m(self, args, bufsize, executable, stdin, stdout, stderr, preexec_fn, close_fds, shell, cwd, env, universal_newlines, startupinfo, creationflags, restore_signals, start_new_session, pass_fds, user, group, extra_groups, encoding, errors, text, umask, pipesize, process_group)\u001b[0m\n\u001b[0;32m   1023\u001b[0m             \u001b[38;5;28mself\u001b[39m\u001b[38;5;241m.\u001b[39mstderr \u001b[38;5;241m=\u001b[39m io\u001b[38;5;241m.\u001b[39mTextIOWrapper(\u001b[38;5;28mself\u001b[39m\u001b[38;5;241m.\u001b[39mstderr,\n\u001b[0;32m   1024\u001b[0m                     encoding\u001b[38;5;241m=\u001b[39mencoding, errors\u001b[38;5;241m=\u001b[39merrors)\n\u001b[1;32m-> 1026\u001b[0m     \u001b[38;5;28mself\u001b[39m\u001b[38;5;241m.\u001b[39m_execute_child(args, executable, preexec_fn, close_fds,\n\u001b[0;32m   1027\u001b[0m                         pass_fds, cwd, env,\n\u001b[0;32m   1028\u001b[0m                         startupinfo, creationflags, shell,\n\u001b[0;32m   1029\u001b[0m                         p2cread, p2cwrite,\n\u001b[0;32m   1030\u001b[0m                         c2pread, c2pwrite,\n\u001b[0;32m   1031\u001b[0m                         errread, errwrite,\n\u001b[0;32m   1032\u001b[0m                         restore_signals,\n\u001b[0;32m   1033\u001b[0m                         gid, gids, uid, umask,\n\u001b[0;32m   1034\u001b[0m                         start_new_session, process_group)\n\u001b[0;32m   1035\u001b[0m \u001b[38;5;28;01mexcept\u001b[39;00m:\n\u001b[0;32m   1036\u001b[0m     \u001b[38;5;66;03m# Cleanup if the child failed starting.\u001b[39;00m\n",
      "File \u001b[1;32mc:\\Users\\coram\\.conda\\envs\\arcpy_clone\\Lib\\subprocess.py:1538\u001b[0m, in \u001b[0;36mPopen._execute_child\u001b[1;34m(self, args, executable, preexec_fn, close_fds, pass_fds, cwd, env, startupinfo, creationflags, shell, p2cread, p2cwrite, c2pread, c2pwrite, errread, errwrite, unused_restore_signals, unused_gid, unused_gids, unused_uid, unused_umask, unused_start_new_session, unused_process_group)\u001b[0m\n\u001b[0;32m   1537\u001b[0m \u001b[38;5;28;01mtry\u001b[39;00m:\n\u001b[1;32m-> 1538\u001b[0m     hp, ht, pid, tid \u001b[38;5;241m=\u001b[39m _winapi\u001b[38;5;241m.\u001b[39mCreateProcess(executable, args,\n\u001b[0;32m   1539\u001b[0m                              \u001b[38;5;66;03m# no special security\u001b[39;00m\n\u001b[0;32m   1540\u001b[0m                              \u001b[38;5;28;01mNone\u001b[39;00m, \u001b[38;5;28;01mNone\u001b[39;00m,\n\u001b[0;32m   1541\u001b[0m                              \u001b[38;5;28mint\u001b[39m(\u001b[38;5;129;01mnot\u001b[39;00m close_fds),\n\u001b[0;32m   1542\u001b[0m                              creationflags,\n\u001b[0;32m   1543\u001b[0m                              env,\n\u001b[0;32m   1544\u001b[0m                              cwd,\n\u001b[0;32m   1545\u001b[0m                              startupinfo)\n\u001b[0;32m   1546\u001b[0m \u001b[38;5;28;01mfinally\u001b[39;00m:\n\u001b[0;32m   1547\u001b[0m     \u001b[38;5;66;03m# Child is launched. Close the parent's copy of those pipe\u001b[39;00m\n\u001b[0;32m   1548\u001b[0m     \u001b[38;5;66;03m# handles that only the child should have open.  You need\u001b[39;00m\n\u001b[1;32m   (...)\u001b[0m\n\u001b[0;32m   1551\u001b[0m     \u001b[38;5;66;03m# pipe will not close when the child process exits and the\u001b[39;00m\n\u001b[0;32m   1552\u001b[0m     \u001b[38;5;66;03m# ReadFile will hang.\u001b[39;00m\n",
      "\u001b[1;31mFileNotFoundError\u001b[0m: [WinError 2] The system cannot find the file specified",
      "\nDuring handling of the above exception, another exception occurred:\n",
      "\u001b[1;31mPDFInfoNotInstalledError\u001b[0m                  Traceback (most recent call last)",
      "Cell \u001b[1;32mIn[7], line 5\u001b[0m\n\u001b[0;32m      2\u001b[0m \u001b[38;5;28;01mfrom\u001b[39;00m \u001b[38;5;21;01mIPython\u001b[39;00m\u001b[38;5;21;01m.\u001b[39;00m\u001b[38;5;21;01mdisplay\u001b[39;00m \u001b[38;5;28;01mimport\u001b[39;00m display\n\u001b[0;32m      4\u001b[0m \u001b[38;5;66;03m# Convert PDF to images\u001b[39;00m\n\u001b[1;32m----> 5\u001b[0m images \u001b[38;5;241m=\u001b[39m convert_from_path(\u001b[38;5;124m\"\u001b[39m\u001b[38;5;124mC:\u001b[39m\u001b[38;5;130;01m\\\\\u001b[39;00m\u001b[38;5;124mUsers\u001b[39m\u001b[38;5;130;01m\\\\\u001b[39;00m\u001b[38;5;124mcoram\u001b[39m\u001b[38;5;130;01m\\\\\u001b[39;00m\u001b[38;5;124mDocuments\u001b[39m\u001b[38;5;130;01m\\\\\u001b[39;00m\u001b[38;5;124mgeog4057_coramikolajczyk\u001b[39m\u001b[38;5;130;01m\\\\\u001b[39;00m\u001b[38;5;124mFinal_Project\u001b[39m\u001b[38;5;130;01m\\\\\u001b[39;00m\u001b[38;5;124mfinal_project_map.pdf\u001b[39m\u001b[38;5;124m\"\u001b[39m)\n\u001b[0;32m      7\u001b[0m \u001b[38;5;66;03m# Display the first page\u001b[39;00m\n\u001b[0;32m      8\u001b[0m display(images[\u001b[38;5;241m0\u001b[39m])\n",
      "File \u001b[1;32mc:\\Users\\coram\\.conda\\envs\\arcpy_clone\\Lib\\site-packages\\pdf2image\\pdf2image.py:127\u001b[0m, in \u001b[0;36mconvert_from_path\u001b[1;34m(pdf_path, dpi, output_folder, first_page, last_page, fmt, jpegopt, thread_count, userpw, ownerpw, use_cropbox, strict, transparent, single_file, output_file, poppler_path, grayscale, size, paths_only, use_pdftocairo, timeout, hide_annotations)\u001b[0m\n\u001b[0;32m    124\u001b[0m \u001b[38;5;28;01mif\u001b[39;00m \u001b[38;5;28misinstance\u001b[39m(poppler_path, PurePath):\n\u001b[0;32m    125\u001b[0m     poppler_path \u001b[38;5;241m=\u001b[39m poppler_path\u001b[38;5;241m.\u001b[39mas_posix()\n\u001b[1;32m--> 127\u001b[0m page_count \u001b[38;5;241m=\u001b[39m pdfinfo_from_path(\n\u001b[0;32m    128\u001b[0m     pdf_path, userpw, ownerpw, poppler_path\u001b[38;5;241m=\u001b[39mpoppler_path\n\u001b[0;32m    129\u001b[0m )[\u001b[38;5;124m\"\u001b[39m\u001b[38;5;124mPages\u001b[39m\u001b[38;5;124m\"\u001b[39m]\n\u001b[0;32m    131\u001b[0m \u001b[38;5;66;03m# We start by getting the output format, the buffer processing function and if we need pdftocairo\u001b[39;00m\n\u001b[0;32m    132\u001b[0m parsed_fmt, final_extension, parse_buffer_func, use_pdfcairo_format \u001b[38;5;241m=\u001b[39m _parse_format(\n\u001b[0;32m    133\u001b[0m     fmt, grayscale\n\u001b[0;32m    134\u001b[0m )\n",
      "File \u001b[1;32mc:\\Users\\coram\\.conda\\envs\\arcpy_clone\\Lib\\site-packages\\pdf2image\\pdf2image.py:607\u001b[0m, in \u001b[0;36mpdfinfo_from_path\u001b[1;34m(pdf_path, userpw, ownerpw, poppler_path, rawdates, timeout, first_page, last_page)\u001b[0m\n\u001b[0;32m    604\u001b[0m     \u001b[38;5;28;01mreturn\u001b[39;00m d\n\u001b[0;32m    606\u001b[0m \u001b[38;5;28;01mexcept\u001b[39;00m \u001b[38;5;167;01mOSError\u001b[39;00m:\n\u001b[1;32m--> 607\u001b[0m     \u001b[38;5;28;01mraise\u001b[39;00m PDFInfoNotInstalledError(\n\u001b[0;32m    608\u001b[0m         \u001b[38;5;124m\"\u001b[39m\u001b[38;5;124mUnable to get page count. Is poppler installed and in PATH?\u001b[39m\u001b[38;5;124m\"\u001b[39m\n\u001b[0;32m    609\u001b[0m     )\n\u001b[0;32m    610\u001b[0m \u001b[38;5;28;01mexcept\u001b[39;00m \u001b[38;5;167;01mValueError\u001b[39;00m:\n\u001b[0;32m    611\u001b[0m     \u001b[38;5;28;01mraise\u001b[39;00m PDFPageCountError(\n\u001b[0;32m    612\u001b[0m         \u001b[38;5;124mf\u001b[39m\u001b[38;5;124m\"\u001b[39m\u001b[38;5;124mUnable to get page count.\u001b[39m\u001b[38;5;130;01m\\n\u001b[39;00m\u001b[38;5;132;01m{\u001b[39;00merr\u001b[38;5;241m.\u001b[39mdecode(\u001b[38;5;124m'\u001b[39m\u001b[38;5;124mutf8\u001b[39m\u001b[38;5;124m'\u001b[39m,\u001b[38;5;250m \u001b[39m\u001b[38;5;124m'\u001b[39m\u001b[38;5;124mignore\u001b[39m\u001b[38;5;124m'\u001b[39m)\u001b[38;5;132;01m}\u001b[39;00m\u001b[38;5;124m\"\u001b[39m\n\u001b[0;32m    613\u001b[0m     )\n",
      "\u001b[1;31mPDFInfoNotInstalledError\u001b[0m: Unable to get page count. Is poppler installed and in PATH?"
     ]
    }
   ],
   "source": [
    "from pdf2image import convert_from_path\n",
    "from IPython.display import display\n",
    "\n",
    "# Convert PDF to images\n",
    "images = convert_from_path(\"C:\\\\Users\\\\coram\\\\Documents\\\\geog4057_coramikolajczyk\\\\Final_Project\\\\final_project_map.pdf\")\n",
    "\n",
    "# Display the first page\n",
    "display(images[0])\n"
   ]
  }
 ],
 "metadata": {
  "kernelspec": {
   "display_name": "arcpy_clone",
   "language": "python",
   "name": "python3"
  },
  "language_info": {
   "codemirror_mode": {
    "name": "ipython",
    "version": 3
   },
   "file_extension": ".py",
   "mimetype": "text/x-python",
   "name": "python",
   "nbconvert_exporter": "python",
   "pygments_lexer": "ipython3",
   "version": "3.11.10"
  }
 },
 "nbformat": 4,
 "nbformat_minor": 5
}
