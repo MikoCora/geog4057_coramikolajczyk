{
 "cells": [
  {
   "cell_type": "code",
   "execution_count": 25,
   "metadata": {},
   "outputs": [],
   "source": [
    "import json\n",
    "with open(r'C:\\Users\\coram\\Documents\\programing\\geog4057\\project\\data\\no_tax.json') as file:\n",
    "    tax_json = json.load(file)"
   ]
  },
  {
   "cell_type": "code",
   "execution_count": null,
   "metadata": {},
   "outputs": [],
   "source": []
  },
  {
   "cell_type": "code",
   "execution_count": 26,
   "metadata": {},
   "outputs": [
    {
     "name": "stdout",
     "output_type": "stream",
     "text": [
      "['row-69eh-dt2h-vwz3', '00000000-0000-0000-A344-B176ECD7FE9B', 0, 1628101573, None, 1628101573, None, '{ }', 'MULTIPOLYGON (((-90.092842237961 29.969376832976, -90.09206523793 29.970255834178, -90.091376237438 29.971000834423, -90.090628237821 29.971830834325, -90.090391236797 29.972100835188, -90.089449236358 29.971550834873, -90.088767236134 29.971163834089, -90.087926235745 29.970586834355, -90.08705723576 29.970059834233, -90.086135234355 29.969567833971, -90.084839233564 29.968734834088, -90.084580233207 29.968568833541, -90.085052233499 29.968045833564, -90.085633233463 29.967421833521, -90.085799233941 29.967243833329, -90.086482234167 29.966464832285, -90.087242234263 29.965596832431, -90.0873702349 29.965447831869, -90.087512234348 29.965550832148, -90.088310235279 29.96610083245, -90.088882235725 29.966494831847, -90.089729235653 29.967051832427, -90.090544236508 29.967635832383, -90.0913742373 29.968210832951, -90.092028237156 29.96865283276, -90.092964238289 29.969231833465, -90.092842237961 29.969376832976)))', '101', '220710050002', 'C', '3085170.5967876972', '7251.2480743083825']\n"
     ]
    }
   ],
   "source": [
    "print((tax_json['data'][0]))"
   ]
  },
  {
   "cell_type": "code",
   "execution_count": 27,
   "metadata": {},
   "outputs": [
    {
     "name": "stdout",
     "output_type": "stream",
     "text": [
      "row-69eh-dt2h-vwz3\n",
      "00000000-0000-0000-A344-B176ECD7FE9B\n",
      "0\n",
      "1628101573\n",
      "None\n",
      "1628101573\n",
      "None\n",
      "{ }\n",
      "MULTIPOLYGON (((-90.092842237961 29.969376832976, -90.09206523793 29.970255834178, -90.091376237438 29.971000834423, -90.090628237821 29.971830834325, -90.090391236797 29.972100835188, -90.089449236358 29.971550834873, -90.088767236134 29.971163834089, -90.087926235745 29.970586834355, -90.08705723576 29.970059834233, -90.086135234355 29.969567833971, -90.084839233564 29.968734834088, -90.084580233207 29.968568833541, -90.085052233499 29.968045833564, -90.085633233463 29.967421833521, -90.085799233941 29.967243833329, -90.086482234167 29.966464832285, -90.087242234263 29.965596832431, -90.0873702349 29.965447831869, -90.087512234348 29.965550832148, -90.088310235279 29.96610083245, -90.088882235725 29.966494831847, -90.089729235653 29.967051832427, -90.090544236508 29.967635832383, -90.0913742373 29.968210832951, -90.092028237156 29.96865283276, -90.092964238289 29.969231833465, -90.092842237961 29.969376832976)))\n",
      "101\n",
      "220710050002\n",
      "C\n",
      "3085170.5967876972\n",
      "7251.2480743083825\n"
     ]
    }
   ],
   "source": [
    "for i in tax_json['data'][0]:\n",
    "    print(i)"
   ]
  },
  {
   "cell_type": "code",
   "execution_count": 28,
   "metadata": {},
   "outputs": [],
   "source": [
    "import arcpy\n",
    "geom = arcpy.FromWKT(tax_json['data'][100][8])"
   ]
  },
  {
   "cell_type": "code",
   "execution_count": 29,
   "metadata": {},
   "outputs": [
    {
     "data": {
      "image/svg+xml": [
       "<svg xmlns=\"http://www.w3.org/2000/svg\" xmlns:xlink=\"http://www.w3.org/1999/xlink\" width=\"100.0\" height=\"100.0\" viewBox=\"-90.09663811648623 29.92668093476476 0.006692764596465395 0.005074762163477686\" preserveAspectRatio=\"xMinYMin meet\"><g transform=\"matrix(1,0,0,-1,0,59.858436631692996)\"><path fill-rule=\"evenodd\" fill=\"#66cc99\" stroke=\"#555555\" stroke-width=\"0.0001338552919293079\" opacity=\"0.6\" d=\" M -90.096390236316,29.930035815846 L -90.095607235915,29.930189815822 L -90.094768235786,29.930415816496 L -90.093922235198,29.930656816946 L -90.092853235105,29.931042816845 L -90.092722234445,29.931087817045 L -90.091594234194,29.931507816758 L -90.091570234051,29.931409816779 L -90.091482233426,29.931214816758 L -90.091184233966,29.93058581631 L -90.090773233907,29.929703815922 L -90.090581232942,29.929292815899 L -90.090285232754,29.928752816079 L -90.09019323206,29.928642814529 L -90.091321234066,29.928210815111 L -90.091453233795,29.928165815718 L -90.092535234489,29.927769815306 L -90.092750233674,29.927690815284 L -90.093644234744,29.927394814071 L -90.094552235404,29.927127815154 L -90.094701236051,29.927086815052 L -90.095541235455,29.926928814935 L -90.09557223599,29.927082813946 L -90.095900236009,29.928132814912 L -90.096136236141,29.929089815259 L -90.096390236316,29.930035815846 z\" /></g></svg>"
      ],
      "text/plain": [
       "<Polygon object at 0x1e5f2dfc0d0[0x1e5ed14b900]>"
      ]
     },
     "execution_count": 29,
     "metadata": {},
     "output_type": "execute_result"
    }
   ],
   "source": [
    "geom"
   ]
  },
  {
   "cell_type": "code",
   "execution_count": 30,
   "metadata": {},
   "outputs": [
    {
     "data": {
      "text/html": [
       "<div class='gpresult'><h2 class='msg-title'>Messages</h2><div id='messages'>Start Time: Thursday, March 27, 2025 12:37:16 PM<br>Succeeded at Thursday, March 27, 2025 12:37:16 PM (Elapsed Time: 0.04 seconds)<br></div><div id = 'default' /></div></div>"
      ],
      "text/plain": [
       "<Result 'C:\\\\Users\\\\coram\\\\Documents\\\\programing\\\\geog4057\\\\project\\\\notax_fc.shp'>"
      ]
     },
     "execution_count": 30,
     "metadata": {},
     "output_type": "execute_result"
    }
   ],
   "source": [
    "import os\n",
    "fcname = 'notax_fc.shp'\n",
    "workspace = r'C:\\Users\\coram\\Documents\\programing\\geog4057\\project'\n",
    "fc_fullname = os.path.join(workspace,fcname)\n",
    "if arcpy.Exists(fc_fullname):\n",
    "    arcpy.management.Delete(fc_fullname)\n",
    "\n",
    "arcpy.management.CreateFeatureclass(out_path=workspace,out_name=fcname,\n",
    "                                    geometry_type='POLYGON',\n",
    "                                    spatial_reference=4269)"
   ]
  },
  {
   "cell_type": "code",
   "execution_count": 31,
   "metadata": {},
   "outputs": [
    {
     "name": "stdout",
     "output_type": "stream",
     "text": [
      "FID\n",
      "Shape\n",
      "Id\n"
     ]
    }
   ],
   "source": [
    "desc = arcpy.da.Describe(fc_fullname)\n",
    "for field in desc['fields']:\n",
    "    print(field.name)"
   ]
  },
  {
   "cell_type": "markdown",
   "metadata": {},
   "source": [
    "#exploring the metadata"
   ]
  },
  {
   "cell_type": "code",
   "execution_count": 32,
   "metadata": {},
   "outputs": [
    {
     "name": "stdout",
     "output_type": "stream",
     "text": [
      ":sid\n",
      ":id\n",
      ":position\n",
      ":created_at\n",
      ":created_meta\n",
      ":updated_at\n",
      ":updated_meta\n",
      ":meta\n",
      "the_geom\n",
      "objectid\n",
      "geoid\n",
      "clusterlet\n",
      "shape_starea\n",
      "shape_stlength\n"
     ]
    }
   ],
   "source": [
    "fields = tax_json['meta']['view']['columns']\n",
    "for field in fields:\n",
    "     print(field['fieldName'])"
   ]
  },
  {
   "cell_type": "code",
   "execution_count": 33,
   "metadata": {},
   "outputs": [
    {
     "data": {
      "text/plain": [
       "['sid',\n",
       " 'id2',\n",
       " 'position',\n",
       " 'created_at',\n",
       " 'created_me',\n",
       " 'updated_at',\n",
       " 'updated_me',\n",
       " 'meta',\n",
       " 'objectid',\n",
       " 'geoid',\n",
       " 'clusterlet',\n",
       " 'shape_star',\n",
       " 'shape_stle']"
      ]
     },
     "execution_count": 33,
     "metadata": {},
     "output_type": "execute_result"
    }
   ],
   "source": [
    "fields = tax_json['meta']['view']['columns']\n",
    "field_names = []\n",
    "for ind, field in enumerate(fields):\n",
    "    \n",
    "    name = field['fieldName']\n",
    "    if name == 'the_geom':\n",
    "        continue\n",
    "    if ':' in name:\n",
    "        name = name.split(':')[1]\n",
    "    if name.lower() == 'id':\n",
    "        name = 'id2'\n",
    "    if len(name) > 10:\n",
    "        name = name[:10]\n",
    "    field_names.append(name)\n",
    "field_names "
   ]
  },
  {
   "cell_type": "code",
   "execution_count": 34,
   "metadata": {},
   "outputs": [
    {
     "data": {
      "text/plain": [
       "13"
      ]
     },
     "execution_count": 34,
     "metadata": {},
     "output_type": "execute_result"
    }
   ],
   "source": [
    "field_type = ['TEXT','TEXT','LONG',\n",
    "              'LONG','TEXT','LONG',\n",
    "              'TEXT','TEXT','TEXT',\n",
    "              'TEXT','TEXT','TEXT','TEXT']\n",
    "len(field_type)"
   ]
  },
  {
   "cell_type": "code",
   "execution_count": 35,
   "metadata": {},
   "outputs": [],
   "source": [
    "for ind,field_name in enumerate(field_names):\n",
    "    arcpy.management.AddField(fc_fullname,field_name=field_name,field_type=field_type[ind])\n",
    "\n"
   ]
  },
  {
   "cell_type": "code",
   "execution_count": 36,
   "metadata": {},
   "outputs": [
    {
     "data": {
      "text/plain": [
       "['sid',\n",
       " 'id2',\n",
       " 'position',\n",
       " 'created_at',\n",
       " 'created_me',\n",
       " 'updated_at',\n",
       " 'updated_me',\n",
       " 'meta',\n",
       " 'objectid',\n",
       " 'geoid',\n",
       " 'clusterlet',\n",
       " 'shape_star',\n",
       " 'shape_stle',\n",
       " 'SHAPE@']"
      ]
     },
     "execution_count": 36,
     "metadata": {},
     "output_type": "execute_result"
    }
   ],
   "source": [
    "field_names.append('SHAPE@')\n",
    "field_names"
   ]
  },
  {
   "cell_type": "markdown",
   "metadata": {},
   "source": [
    "write records to the feature class"
   ]
  },
  {
   "cell_type": "code",
   "execution_count": 37,
   "metadata": {},
   "outputs": [],
   "source": [
    "with arcpy.da.InsertCursor(fc_fullname,\n",
    "                           field_names=field_names) as cursor:\n",
    "    for row in tax_json['data']:\n",
    "        new_row = []\n",
    "        for ind, value in enumerate(row):\n",
    "            if ind == 8:\n",
    "                continue\n",
    "            if value == None:\n",
    "                value = \"\"\n",
    "            new_row.append(value)\n",
    "        geom = arcpy.FromWKT(row[8])\n",
    "        new_row.append(geom)\n",
    "        cursor.insertRow(new_row)"
   ]
  },
  {
   "cell_type": "code",
   "execution_count": null,
   "metadata": {},
   "outputs": [],
   "source": [
    "import json\n",
    "import arcpy\n",
    "import os\n",
    "\n",
    "def jsonToFC(input_file, output_fc):\n",
    "    # Load the JSON file\n",
    "    with open(input_file) as file:\n",
    "        tax_json = json.load(file)\n",
    "\n",
    "    workspace = os.path.dirname(output_fc)\n",
    "    fcname = os.path.basename(output_fc)\n",
    "    if arcpy.Exists(output_fc):\n",
    "        arcpy.management.Delete(output_fc)\n",
    "\n",
    "    arcpy.management.CreateFeatureclass(out_path=workspace, out_name=fcname,\n",
    "                                        geometry_type='POLYGON',\n",
    "                                        spatial_reference=4269)\n",
    "\n",
    "    fields = tax_json['meta']['view']['columns']\n",
    "    field_names = []\n",
    "    for ind, field in enumerate(fields):\n",
    "        name = field['fieldName']\n",
    "        if name == 'the_geom':\n",
    "            continue\n",
    "        if ':' in name:\n",
    "            name = name.split(':')[1]\n",
    "        if name.lower() == 'id':\n",
    "            name = 'id2'\n",
    "        if len(name) > 10:\n",
    "            name = name[:10]\n",
    "        field_names.append(name)\n",
    "\n",
    "    field_type = ['TEXT', 'TEXT', 'LONG',\n",
    "                  'LONG', 'TEXT', 'LONG',\n",
    "                  'TEXT', 'TEXT', 'TEXT',\n",
    "                  'TEXT', 'TEXT', 'TEXT', 'TEXT']\n",
    "\n",
    "    for ind, field_name in enumerate(field_names):\n",
    "        arcpy.management.AddField(output_fc, field_name=field_name, field_type=field_type[ind])\n",
    "\n",
    "    field_names.append('SHAPE@')\n",
    "\n",
    "    with arcpy.da.InsertCursor(output_fc, field_names=field_names) as cursor:\n",
    "        for row in tax_json['data']:\n",
    "            new_row = []\n",
    "            for ind, value in enumerate(row):\n",
    "                if ind == 8:  # Skip geometry field\n",
    "                    continue\n",
    "                if value is None:\n",
    "                    value = \"\"\n",
    "                new_row.append(value)\n",
    "            geom = arcpy.FromWKT(row[8])\n",
    "            new_row.append(geom)\n",
    "            cursor.insertRow(new_row)\n",
    "\n",
    "def main():\n",
    "    input_file = r'C:\\Users\\coram\\Documents\\programing\\geog4057\\project\\data\\no_tax.json'\n",
    "    output_fc = r'C:\\Users\\coram\\Documents\\programing\\geog4057\\project\\notax_fc.shp'\n",
    "    jsonToFC(input_file, output_fc)\n",
    "\n",
    "if __name__ == \"__main__\":\n",
    "    main()"
   ]
  }
 ],
 "metadata": {
  "kernelspec": {
   "display_name": "arcpy__clone",
   "language": "python",
   "name": "python3"
  },
  "language_info": {
   "codemirror_mode": {
    "name": "ipython",
    "version": 3
   },
   "file_extension": ".py",
   "mimetype": "text/x-python",
   "name": "python",
   "nbconvert_exporter": "python",
   "pygments_lexer": "ipython3",
   "version": "3.11.10"
  }
 },
 "nbformat": 4,
 "nbformat_minor": 2
}
